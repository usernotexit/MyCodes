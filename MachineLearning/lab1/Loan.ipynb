{
 "cells": [
  {
   "cell_type": "markdown",
   "metadata": {},
   "source": [
    "## Load Dataset"
   ]
  },
  {
   "cell_type": "code",
   "execution_count": 18,
   "metadata": {},
   "outputs": [
    {
     "data": {
      "text/html": [
       "<div>\n",
       "<style scoped>\n",
       "    .dataframe tbody tr th:only-of-type {\n",
       "        vertical-align: middle;\n",
       "    }\n",
       "\n",
       "    .dataframe tbody tr th {\n",
       "        vertical-align: top;\n",
       "    }\n",
       "\n",
       "    .dataframe thead th {\n",
       "        text-align: right;\n",
       "    }\n",
       "</style>\n",
       "<table border=\"1\" class=\"dataframe\">\n",
       "  <thead>\n",
       "    <tr style=\"text-align: right;\">\n",
       "      <th></th>\n",
       "      <th>Loan_ID</th>\n",
       "      <th>Gender</th>\n",
       "      <th>Married</th>\n",
       "      <th>Dependents</th>\n",
       "      <th>Education</th>\n",
       "      <th>Self_Employed</th>\n",
       "      <th>ApplicantIncome</th>\n",
       "      <th>CoapplicantIncome</th>\n",
       "      <th>LoanAmount</th>\n",
       "      <th>Loan_Amount_Term</th>\n",
       "      <th>Credit_History</th>\n",
       "      <th>Property_Area</th>\n",
       "      <th>Loan_Status</th>\n",
       "    </tr>\n",
       "  </thead>\n",
       "  <tbody>\n",
       "    <tr>\n",
       "      <th>0</th>\n",
       "      <td>LP001002</td>\n",
       "      <td>Male</td>\n",
       "      <td>No</td>\n",
       "      <td>0</td>\n",
       "      <td>Graduate</td>\n",
       "      <td>No</td>\n",
       "      <td>5849</td>\n",
       "      <td>0.0</td>\n",
       "      <td>NaN</td>\n",
       "      <td>360.0</td>\n",
       "      <td>1.0</td>\n",
       "      <td>Urban</td>\n",
       "      <td>Y</td>\n",
       "    </tr>\n",
       "    <tr>\n",
       "      <th>1</th>\n",
       "      <td>LP001003</td>\n",
       "      <td>Male</td>\n",
       "      <td>Yes</td>\n",
       "      <td>1</td>\n",
       "      <td>Graduate</td>\n",
       "      <td>No</td>\n",
       "      <td>4583</td>\n",
       "      <td>1508.0</td>\n",
       "      <td>128.0</td>\n",
       "      <td>360.0</td>\n",
       "      <td>1.0</td>\n",
       "      <td>Rural</td>\n",
       "      <td>N</td>\n",
       "    </tr>\n",
       "    <tr>\n",
       "      <th>2</th>\n",
       "      <td>LP001005</td>\n",
       "      <td>Male</td>\n",
       "      <td>Yes</td>\n",
       "      <td>0</td>\n",
       "      <td>Graduate</td>\n",
       "      <td>Yes</td>\n",
       "      <td>3000</td>\n",
       "      <td>0.0</td>\n",
       "      <td>66.0</td>\n",
       "      <td>360.0</td>\n",
       "      <td>1.0</td>\n",
       "      <td>Urban</td>\n",
       "      <td>Y</td>\n",
       "    </tr>\n",
       "    <tr>\n",
       "      <th>3</th>\n",
       "      <td>LP001006</td>\n",
       "      <td>Male</td>\n",
       "      <td>Yes</td>\n",
       "      <td>0</td>\n",
       "      <td>Not Graduate</td>\n",
       "      <td>No</td>\n",
       "      <td>2583</td>\n",
       "      <td>2358.0</td>\n",
       "      <td>120.0</td>\n",
       "      <td>360.0</td>\n",
       "      <td>1.0</td>\n",
       "      <td>Urban</td>\n",
       "      <td>Y</td>\n",
       "    </tr>\n",
       "    <tr>\n",
       "      <th>4</th>\n",
       "      <td>LP001008</td>\n",
       "      <td>Male</td>\n",
       "      <td>No</td>\n",
       "      <td>0</td>\n",
       "      <td>Graduate</td>\n",
       "      <td>No</td>\n",
       "      <td>6000</td>\n",
       "      <td>0.0</td>\n",
       "      <td>141.0</td>\n",
       "      <td>360.0</td>\n",
       "      <td>1.0</td>\n",
       "      <td>Urban</td>\n",
       "      <td>Y</td>\n",
       "    </tr>\n",
       "  </tbody>\n",
       "</table>\n",
       "</div>"
      ],
      "text/plain": [
       "    Loan_ID Gender Married Dependents     Education Self_Employed  \\\n",
       "0  LP001002   Male      No          0      Graduate            No   \n",
       "1  LP001003   Male     Yes          1      Graduate            No   \n",
       "2  LP001005   Male     Yes          0      Graduate           Yes   \n",
       "3  LP001006   Male     Yes          0  Not Graduate            No   \n",
       "4  LP001008   Male      No          0      Graduate            No   \n",
       "\n",
       "   ApplicantIncome  CoapplicantIncome  LoanAmount  Loan_Amount_Term  \\\n",
       "0             5849                0.0         NaN             360.0   \n",
       "1             4583             1508.0       128.0             360.0   \n",
       "2             3000                0.0        66.0             360.0   \n",
       "3             2583             2358.0       120.0             360.0   \n",
       "4             6000                0.0       141.0             360.0   \n",
       "\n",
       "   Credit_History Property_Area Loan_Status  \n",
       "0             1.0         Urban           Y  \n",
       "1             1.0         Rural           N  \n",
       "2             1.0         Urban           Y  \n",
       "3             1.0         Urban           Y  \n",
       "4             1.0         Urban           Y  "
      ]
     },
     "execution_count": 18,
     "metadata": {},
     "output_type": "execute_result"
    }
   ],
   "source": [
    "import pandas as pd\n",
    "df = pd.read_csv('loan.csv')\n",
    "df.head()"
   ]
  },
  {
   "cell_type": "markdown",
   "metadata": {},
   "source": [
    "## Dataset Info"
   ]
  },
  {
   "cell_type": "code",
   "execution_count": 19,
   "metadata": {},
   "outputs": [
    {
     "name": "stdout",
     "output_type": "stream",
     "text": [
      "<class 'pandas.core.frame.DataFrame'>\n",
      "RangeIndex: 614 entries, 0 to 613\n",
      "Data columns (total 13 columns):\n",
      "Loan_ID              614 non-null object\n",
      "Gender               601 non-null object\n",
      "Married              611 non-null object\n",
      "Dependents           599 non-null object\n",
      "Education            614 non-null object\n",
      "Self_Employed        582 non-null object\n",
      "ApplicantIncome      614 non-null int64\n",
      "CoapplicantIncome    614 non-null float64\n",
      "LoanAmount           592 non-null float64\n",
      "Loan_Amount_Term     600 non-null float64\n",
      "Credit_History       564 non-null float64\n",
      "Property_Area        614 non-null object\n",
      "Loan_Status          614 non-null object\n",
      "dtypes: float64(4), int64(1), object(8)\n",
      "memory usage: 62.4+ KB\n"
     ]
    }
   ],
   "source": [
    "df.info()"
   ]
  },
  {
   "cell_type": "markdown",
   "metadata": {},
   "source": [
    "## Data Cleaning"
   ]
  },
  {
   "cell_type": "code",
   "execution_count": 20,
   "metadata": {},
   "outputs": [
    {
     "data": {
      "text/plain": [
       "Gender               13\n",
       "Married               3\n",
       "Dependents           15\n",
       "Education             0\n",
       "Self_Employed        32\n",
       "ApplicantIncome       0\n",
       "CoapplicantIncome     0\n",
       "LoanAmount           22\n",
       "Loan_Amount_Term     14\n",
       "Credit_History       50\n",
       "Property_Area         0\n",
       "Loan_Status           0\n",
       "dtype: int64"
      ]
     },
     "execution_count": 20,
     "metadata": {},
     "output_type": "execute_result"
    }
   ],
   "source": [
    "df.drop(\"Loan_ID\", axis=1, inplace=True)\n",
    "# Checking the Missing Values\n",
    "df.isnull().sum()"
   ]
  },
  {
   "cell_type": "code",
   "execution_count": 21,
   "metadata": {},
   "outputs": [
    {
     "data": {
      "text/plain": [
       "Gender               0\n",
       "Married              0\n",
       "Dependents           0\n",
       "Education            0\n",
       "Self_Employed        0\n",
       "ApplicantIncome      0\n",
       "CoapplicantIncome    0\n",
       "LoanAmount           0\n",
       "Loan_Amount_Term     0\n",
       "Credit_History       0\n",
       "Property_Area        0\n",
       "Loan_Status          0\n",
       "dtype: int64"
      ]
     },
     "execution_count": 21,
     "metadata": {},
     "output_type": "execute_result"
    }
   ],
   "source": [
    "# Task1 deal with NULL rows, you can either choose to drop them or replace them with mean or other value \n",
    "df = df.dropna(how='any')\n",
    "df.isnull().sum()"
   ]
  },
  {
   "cell_type": "markdown",
   "metadata": {},
   "source": [
    "## Encode "
   ]
  },
  {
   "cell_type": "code",
   "execution_count": 22,
   "metadata": {},
   "outputs": [
    {
     "name": "stdout",
     "output_type": "stream",
     "text": [
      "<class 'pandas.core.frame.DataFrame'>\n",
      "Int64Index: 480 entries, 1 to 613\n",
      "Data columns (total 12 columns):\n",
      "Gender               480 non-null float64\n",
      "Married              480 non-null float64\n",
      "Dependents           480 non-null float64\n",
      "Education            480 non-null float64\n",
      "Self_Employed        480 non-null float64\n",
      "ApplicantIncome      480 non-null float64\n",
      "CoapplicantIncome    480 non-null float64\n",
      "LoanAmount           480 non-null float64\n",
      "Loan_Amount_Term     480 non-null float64\n",
      "Credit_History       480 non-null float64\n",
      "Property_Area        480 non-null float64\n",
      "Loan_Status          480 non-null float64\n",
      "dtypes: float64(12)\n",
      "memory usage: 48.8 KB\n"
     ]
    }
   ],
   "source": [
    "# Task2 deal with categorical features\n",
    "# Tip df.Gender=df.Gender.map({'Male':1,'Female':0})\n",
    "df.Gender = df.Gender.map({'Male':1,'Female':0})\n",
    "df.Married = df.Married.map({'Yes':1,'No':0})\n",
    "df.Dependents = df.Dependents.map({'3+':3, '2':2, '1':1, '0':0})\n",
    "df.Education = df.Education.map({'Graduate':1, 'Not Graduate':0})\n",
    "df.Self_Employed = df.Self_Employed.map({'Yes':1, 'No':0})\n",
    "df.Property_Area = df.Property_Area.map({\"Urban\":1, 'Semiurban':0.5, 'Rural':0})\n",
    "df.Loan_Status = df.Loan_Status.map({'Y':1, 'N':0})\n",
    "df.Loan_Amount_Term = df.Loan_Amount_Term / 300\n",
    "df.LoanAmount = df.LoanAmount /100\n",
    "df.ApplicantIncome = df.ApplicantIncome / 10000\n",
    "df.CoapplicantIncome = df.CoapplicantIncome /1000 # 数据预处理，简单约化一下\n",
    "df = df.astype(dtype='float64')\n",
    "df.info()"
   ]
  },
  {
   "cell_type": "markdown",
   "metadata": {},
   "source": [
    "## Data process"
   ]
  },
  {
   "cell_type": "code",
   "execution_count": 23,
   "metadata": {},
   "outputs": [],
   "source": [
    "# Task3 split the dataset into X_train, X_test, y_train, y_test\n",
    "# Optional: you can also use normalization\n",
    "df_p = df[df[\"Loan_Status\"] > 0.5]  # 分离正反例\n",
    "df_n = df[df[\"Loan_Status\"] < 0.5]\n",
    "num_p_test = round(len(df_p)*0.9)\n",
    "num_n_test = round(len(df_n)*0.9)\n",
    "df_p.head()\n",
    "df_p = df_p.sample(frac=1)     # 打乱顺序\n",
    "df_p.head()\n",
    "df_n = df_n.sample(frac=1)\n",
    "X_train = pd.concat([df_p[:num_p_test],df_n[:num_n_test]])\n",
    "X_test = pd.concat([df_p[num_p_test:],df_n[num_n_test:]])\n",
    "y_train = X_train[\"Loan_Status\"]\n",
    "y_test = X_test[\"Loan_Status\"]\n",
    "X_train.drop([\"Loan_Status\"], axis=1, inplace=True)\n",
    "X_test.drop([\"Loan_Status\"], axis=1, inplace=True)\n",
    "#X_test.info()\n",
    "#X_train.info()\n",
    "#df_p.info()\n",
    "#df_n.info()\n",
    "# y_test.size"
   ]
  },
  {
   "cell_type": "code",
   "execution_count": 24,
   "metadata": {},
   "outputs": [
    {
     "name": "stdout",
     "output_type": "stream",
     "text": [
      "<class 'pandas.core.frame.DataFrame'>\n",
      "Int64Index: 432 entries, 501 to 192\n",
      "Data columns (total 11 columns):\n",
      "Gender               432 non-null float64\n",
      "Married              432 non-null float64\n",
      "Dependents           432 non-null float64\n",
      "Education            432 non-null float64\n",
      "Self_Employed        432 non-null float64\n",
      "ApplicantIncome      432 non-null float64\n",
      "CoapplicantIncome    432 non-null float64\n",
      "LoanAmount           432 non-null float64\n",
      "Loan_Amount_Term     432 non-null float64\n",
      "Credit_History       432 non-null float64\n",
      "Property_Area        432 non-null float64\n",
      "dtypes: float64(11)\n",
      "memory usage: 40.5 KB\n"
     ]
    }
   ],
   "source": [
    "# check\n",
    "X_train.info()"
   ]
  },
  {
   "cell_type": "markdown",
   "metadata": {},
   "source": [
    "## Train"
   ]
  },
  {
   "cell_type": "code",
   "execution_count": 25,
   "metadata": {},
   "outputs": [
    {
     "name": "stdout",
     "output_type": "stream",
     "text": [
      "break2\n",
      "Training over\n"
     ]
    }
   ],
   "source": [
    "from Logistic import LogisticRegression\n",
    "import matplotlib.pyplot as plt\n",
    "# Task4 train your model and plot the loss curve of training\n",
    "learning_model = LogisticRegression(\"l2\")\n",
    "learning_model.fit(X_train, y_train, draw_losscurve=True)"
   ]
  },
  {
   "cell_type": "code",
   "execution_count": 29,
   "metadata": {},
   "outputs": [
    {
     "data": {
      "image/png": "[encoded data removed]",
      "text/plain": [
       "<Figure size 432x288 with 1 Axes>"
      ]
     },
     "metadata": {
      "needs_background": "light"
     },
     "output_type": "display_data"
    }
   ],
   "source": [
    "# plot Loss curve\n",
    "tmp_loss = learning_model.losscurve[1,2:]\n",
    "tmp_iters = learning_model.losscurve[0,2:]\n",
    "\n",
    "plt.figure()\n",
    "ax = plt.axes()\n",
    "ax.spines['top'].set_visible(False)\n",
    "ax.spines['right'].set_visible(False)\n",
    "\n",
    "plt.xlabel('iters')\n",
    "plt.ylabel('loss')\n",
    "\n",
    "plt.plot(tmp_iters, tmp_loss, linewidth=1, linestyle=\"solid\", label=\"train loss\")\n",
    "plt.legend()\n",
    "plt.title('Loss curve')\n",
    "plt.show()"
   ]
  },
  {
   "cell_type": "markdown",
   "metadata": {},
   "source": [
    "## Test"
   ]
  },
  {
   "cell_type": "code",
   "execution_count": 27,
   "metadata": {},
   "outputs": [
    {
     "name": "stdout",
     "output_type": "stream",
     "text": [
      "break2\n",
      "Training over\n",
      "break2\n",
      "Training over\n",
      "break2\n",
      "Training over\n",
      "break2\n",
      "Training over\n",
      "break2\n",
      "Training over\n"
     ]
    }
   ],
   "source": [
    "from Logistic import LogisticRegression\n",
    "\n",
    "model1 = LogisticRegression(\"l2\", fit_intercept=True, la=1.0)   #standard\n",
    "model2 = LogisticRegression(\"l2\", fit_intercept=True, la=0.0)   #禁用正则化\n",
    "model3 = LogisticRegression(\"l2\", fit_intercept=False, la=1.0)  #考虑截距\n",
    "model4 = LogisticRegression(\"l2\", fit_intercept=True, la=1.0)   #比较不同lr的影响\n",
    "model5 = LogisticRegression(\"l2\", fit_intercept=True, la=1.0)\n",
    "\n",
    "model1.fit(X_train, y_train)\n",
    "model2.fit(X_train, y_train)\n",
    "model3.fit(X_train, y_train)\n",
    "model4.fit(X_train, y_train, lr = 0.01)\n",
    "model5.fit(X_train, y_train, lr = 0.1)\n",
    "\n",
    "accu_train1 = model1.predict(X_train, y_train)[0,0]\n",
    "accu_test1 = model1.predict(X_test, y_test)[0,0]\n",
    "accu_train2 = model2.predict(X_train, y_train)[0,0]\n",
    "accu_test2 = model2.predict(X_test, y_test)[0,0]\n",
    "accu_train3 = model3.predict(X_train, y_train)[0,0]\n",
    "accu_test3 = model3.predict(X_test, y_test)[0,0]\n",
    "accu_train4 = model4.predict(X_train, y_train)[0,0]\n",
    "accu_test4 = model4.predict(X_test, y_test)[0,0]\n",
    "accu_train5 = model5.predict(X_train, y_train)[0,0]\n",
    "accu_test5 = model5.predict(X_test, y_test)[0,0]"
   ]
  },
  {
   "cell_type": "code",
   "execution_count": 30,
   "metadata": {},
   "outputs": [
    {
     "name": "stdout",
     "output_type": "stream",
     "text": [
      "l2正则化\n",
      "启用：train accuracy: 0.8125 ;test accuracy: 0.7917\n",
      "禁用：train accuracy: 0.8125 ;test accuracy: 0.7917\n",
      "\n",
      "截距\n",
      "启用：train accuracy: 0.8125 ;test accuracy: 0.7917\n",
      "禁用：train accuracy: 0.8125 ;test accuracy: 0.7917\n",
      "\n",
      "学习率\n",
      "lr=0.001：train accuracy: 0.8125 ;test accuracy: 0.7917\n",
      "lr=0.01：train accuracy: 0.8102 ;test accuracy: 0.7917\n",
      "lr=0.1：train accuracy: 0.6921 ;test accuracy: 0.6875\n"
     ]
    }
   ],
   "source": [
    "# Task5 compare the accuracy(or other metrics you want) of test data with different parameters you train with\n",
    "print(\"l2正则化\")\n",
    "print(\"启用：train accuracy:\",'%.4f'%accu_train1,\";test accuracy:\",'%.4f'%accu_test1)\n",
    "print(\"禁用：train accuracy:\",'%.4f'%accu_train2,\";test accuracy:\",'%.4f'%accu_test2)\n",
    "\n",
    "print(\"\\n截距\")\n",
    "print(\"启用：train accuracy:\",'%.4f'%accu_train1,\";test accuracy:\",'%.4f'%accu_test1)\n",
    "print(\"禁用：train accuracy:\",'%.4f'%accu_train3,\";test accuracy:\",'%.4f'%accu_test3)\n",
    "\n",
    "print(\"\\n学习率\")\n",
    "print(\"lr=0.001：train accuracy:\",'%.4f'%accu_train1,\";test accuracy:\",'%.4f'%accu_test1)\n",
    "print(\"lr=0.01：train accuracy:\",'%.4f'%accu_train4,\";test accuracy:\",'%.4f'%accu_test4)\n",
    "print(\"lr=0.1：train accuracy:\",'%.4f'%accu_train5,\";test accuracy:\",'%.4f'%accu_test5)"
   ]
  }
 ],
 "metadata": {
  "kernelspec": {
   "display_name": "Python 3.7.0 64-bit ('Anaconda')",
   "language": "python",
   "name": "python3"
  },
  "language_info": {
   "codemirror_mode": {
    "name": "ipython",
    "version": 3
   },
   "file_extension": ".py",
   "mimetype": "text/x-python",
   "name": "python",
   "nbconvert_exporter": "python",
   "pygments_lexer": "ipython3",
   "version": "3.7.0"
  },
  "orig_nbformat": 4,
  "vscode": {
   "interpreter": {
    "hash": "88279d2366fe020547cde40dd65aa0e3aa662a6ec1f3ca12d88834876c85e1a6"
   }
  }
 },
 "nbformat": 4,
 "nbformat_minor": 2
}
