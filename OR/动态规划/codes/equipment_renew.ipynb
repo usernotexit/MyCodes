{
 "cells": [
  {
   "cell_type": "code",
   "execution_count": 1,
   "metadata": {},
   "outputs": [],
   "source": [
    "from cost import solution"
   ]
  },
  {
   "cell_type": "markdown",
   "metadata": {},
   "source": [
    "# Data"
   ]
  },
  {
   "cell_type": "code",
   "execution_count": 2,
   "metadata": {},
   "outputs": [],
   "source": [
    "epoch = 5\n",
    "p = [100, 105, 110, 115, 120]\n",
    "\n",
    "max_age = 5\n",
    "age = 2\n",
    "vt = [50, 25, 10, 5, 2]\n",
    "ct = [30, 40, 50, 75, 90]"
   ]
  },
  {
   "cell_type": "markdown",
   "metadata": {},
   "source": [
    "# Process"
   ]
  },
  {
   "cell_type": "code",
   "execution_count": 3,
   "metadata": {},
   "outputs": [],
   "source": [
    "vt = list(map(float,[0] + vt))   #第一年不计残值\n",
    "ct = list(map(float,ct + [0]))   #第五年不运行，自然没有运行费用\n",
    "p = list(map(float, p))"
   ]
  },
  {
   "cell_type": "markdown",
   "metadata": {},
   "source": [
    "# Run"
   ]
  },
  {
   "cell_type": "code",
   "execution_count": 4,
   "metadata": {},
   "outputs": [],
   "source": [
    "equ_renew = solution(rt=100., st=vt, max_age=max_age, ct=ct)"
   ]
  },
  {
   "cell_type": "code",
   "execution_count": 5,
   "metadata": {},
   "outputs": [
    {
     "name": "stdout",
     "output_type": "stream",
     "text": [
      "K R K K K E \n",
      "The maximum profit is 165.0\n"
     ]
    }
   ],
   "source": [
    "h, pro = equ_renew.equipment_renew(p,epoch,age)\n",
    "for x in h:\n",
    "    print(x, end=' ')\n",
    "print('\\nThe maximum profit is', pro)"
   ]
  },
  {
   "cell_type": "code",
   "execution_count": 6,
   "metadata": {},
   "outputs": [
    {
     "name": "stdout",
     "output_type": "stream",
     "text": [
      "K R K K K E \n",
      "The maximum profit is 165.0\n"
     ]
    }
   ],
   "source": [
    "h_adv, pro_adv = equ_renew.equipment_renew_advanced(p,epoch,age)\n",
    "for x in h_adv:\n",
    "    print(x, end=' ')\n",
    "print('\\nThe maximum profit is', pro_adv)"
   ]
  },
  {
   "cell_type": "markdown",
   "metadata": {},
   "source": [
    "## Another Example"
   ]
  },
  {
   "cell_type": "code",
   "execution_count": 7,
   "metadata": {},
   "outputs": [
    {
     "name": "stdout",
     "output_type": "stream",
     "text": [
      "R R R K K E \n",
      "The maximum profit is 55100.0\n"
     ]
    }
   ],
   "source": [
    "epoch = 5\n",
    "pt = [100000., 100000., 100000., 100000., 100000.]\n",
    "\n",
    "max_age = 6\n",
    "age = 3\n",
    "rt = [20000., 19000., 18500., 17200., 15500., 14000., 12220.]\n",
    "ct = [200., 600., 1200., 1500., 1700., 1800., 2200.]\n",
    "st = [0., 80000., 60000., 50000., 30000., 10000., 5000.]\n",
    "\n",
    "example_2 = solution(rt, st, ct, max_age)\n",
    "h, pro = example_2.equipment_renew_advanced(pt, epoch, age)\n",
    "\n",
    "for x in h:\n",
    "    print(x, end=' ')\n",
    "print('\\nThe maximum profit is', pro)"
   ]
  }
 ],
 "metadata": {
  "kernelspec": {
   "display_name": "Python 3.7.0 ('base')",
   "language": "python",
   "name": "python3"
  },
  "language_info": {
   "codemirror_mode": {
    "name": "ipython",
    "version": 3
   },
   "file_extension": ".py",
   "mimetype": "text/x-python",
   "name": "python",
   "nbconvert_exporter": "python",
   "pygments_lexer": "ipython3",
   "version": "3.7.0"
  },
  "orig_nbformat": 4,
  "vscode": {
   "interpreter": {
    "hash": "88279d2366fe020547cde40dd65aa0e3aa662a6ec1f3ca12d88834876c85e1a6"
   }
  }
 },
 "nbformat": 4,
 "nbformat_minor": 2
}
