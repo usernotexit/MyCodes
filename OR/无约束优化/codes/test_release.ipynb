{
 "cells": [
  {
   "cell_type": "markdown",
   "metadata": {},
   "source": [
    "## Import\n",
    "* 非精确一维搜索\n",
    "* 牛顿法实现无约束最优化"
   ]
  },
  {
   "cell_type": "code",
   "execution_count": 1,
   "metadata": {},
   "outputs": [],
   "source": [
    "from sympy import *     # 各种函数集\n",
    "import numpy as np\n",
    "\n",
    "#from search import Line_Searcher\n",
    "from newton import opt"
   ]
  },
  {
   "cell_type": "markdown",
   "metadata": {},
   "source": [
    "## Functions to Be Tested\n",
    "本次程序采用 正则表达式+解析法 计算梯度和Hesse阵，因此需要注意函数的形式"
   ]
  },
  {
   "cell_type": "code",
   "execution_count": 2,
   "metadata": {},
   "outputs": [],
   "source": [
    "# 三维Rosenbrock函数\n",
    "def fun_Rosen_3d(x):\n",
    "    return 100*((x[1]-x[0]**2)**2 + (x[2]-x[1]**2)**2) + ((1-x[0])**2 + (1-x[1])**2)\n",
    "\n",
    "# 六维Rosenbrock函数\n",
    "def fun_Rosen_6d(x):\n",
    "    return 100*((x[5]-x[4]**2)**2 + (x[4]-x[3]**2)**2 + (x[3]-x[2]**2)**2 \\\n",
    "        + (x[2]-x[1]**2)**2 + (x[1]-x[0]**2)**2) \\\n",
    "        + ((1-x[4])**2 + (1-x[3])**2 + (1-x[2])**2 +(1-x[1])**2 + (1-x[0])**2)\n",
    "\n",
    "# 添加了三角函数项的Roesnbrock函数\n",
    "def fun_Rosen_sin_3d(x):\n",
    "    return 100*((x[1]-x[0]**2)**2 + (x[2]-x[1]**2)**2) + ((1-x[0])**2 + (1-x[1])**2) \\\n",
    "        + sin(1-x[1])**2 + sin(1-x[0])**2 "
   ]
  },
  {
   "cell_type": "markdown",
   "metadata": {},
   "source": [
    "## Initial Points\n",
    "* 由代数知识不难推出以上函数的全局最优解为 $x_{min}=[1,1,...,1]$ ，最小值为 $0$\n",
    "* 设置三种不同起始点以供测试"
   ]
  },
  {
   "cell_type": "code",
   "execution_count": 3,
   "metadata": {},
   "outputs": [],
   "source": [
    "x1_3d = [0,0,0]\n",
    "x2_3d = [2,2,2]\n",
    "x3_3d = np.random.rand(3) # 随机取点"
   ]
  },
  {
   "cell_type": "code",
   "execution_count": 4,
   "metadata": {},
   "outputs": [],
   "source": [
    "x1_6d = [0,0,0,0,0,0]\n",
    "x2_6d = [2,2,2,2,2,2]\n",
    "x3_6d = np.random.rand(6) # 随机取点"
   ]
  },
  {
   "cell_type": "markdown",
   "metadata": {},
   "source": [
    "## Optimizers\n",
    "* 采用不同的参数ρ和σ进行一维搜索"
   ]
  },
  {
   "cell_type": "code",
   "execution_count": 5,
   "metadata": {},
   "outputs": [],
   "source": [
    "opter1 = opt(0.3, 0.6)\n",
    "opter2 = opt(0.2, 0.9)"
   ]
  },
  {
   "cell_type": "markdown",
   "metadata": {},
   "source": [
    "## Test 1\n",
    "先进行简单的运行测试"
   ]
  },
  {
   "cell_type": "code",
   "execution_count": 6,
   "metadata": {},
   "outputs": [
    {
     "name": "stdout",
     "output_type": "stream",
     "text": [
      "触发停机条件：梯度小于阈值，运行正常\n",
      "[0.999999999999985 0.999999999999969 0.999999999999936]\n",
      "min:  1.55761818331053e-27\n",
      "reduction:  2.00000000000000\n"
     ]
    }
   ],
   "source": [
    "opter1.add_fun(fun_Rosen_3d)\n",
    "x_3d_min = opter1.opt_newtown(x1_3d)\n",
    "\n",
    "print(x_3d_min)\n",
    "print(\"min: \", fun_Rosen_3d(x_3d_min))\n",
    "print(\"reduction: \", fun_Rosen_3d(x1_3d)-fun_Rosen_3d(x_3d_min))"
   ]
  },
  {
   "cell_type": "code",
   "execution_count": 7,
   "metadata": {},
   "outputs": [
    {
     "name": "stdout",
     "output_type": "stream",
     "text": [
      "触发停机条件：梯度小于阈值，运行正常\n",
      "[0.999999999999997 0.999999999999994 0.999999999999987 0.999999999999974\n",
      " 0.999999999999947 0.999999999999893]\n",
      "min:  4.17906460111817e-27\n",
      "reduction:  5.00000000000000\n"
     ]
    }
   ],
   "source": [
    "opter1.add_fun(fun_Rosen_6d)\n",
    "x_6d_min = opter1.opt_newtown(x1_6d)\n",
    "\n",
    "print(x_6d_min)\n",
    "print(\"min: \", fun_Rosen_6d(x_6d_min))\n",
    "print(\"reduction: \", fun_Rosen_6d(x1_6d)-fun_Rosen_6d(x_6d_min))"
   ]
  },
  {
   "cell_type": "markdown",
   "metadata": {},
   "source": [
    "## Performance Test 2 :\n",
    "* 不同初始点测试\n",
    "* 测试对象：六维Rosenbrock函数，三维Rosenbrock函数（三角函数）；三个初始点\n",
    "* 参数设置：$\\rho =0.3, \\sigma = 0.6$"
   ]
  },
  {
   "cell_type": "code",
   "execution_count": 8,
   "metadata": {},
   "outputs": [
    {
     "name": "stdout",
     "output_type": "stream",
     "text": [
      "starting point:\n",
      " [0, 0, 0, 0, 0, 0]\n",
      "触发停机条件：梯度小于阈值，运行正常\n",
      "[0.999999999999997 0.999999999999994 0.999999999999987 0.999999999999974\n",
      " 0.999999999999947 0.999999999999893]\n",
      "min:  4.17906460111817e-27 \n",
      "\n",
      "starting point:\n",
      " [2, 2, 2, 2, 2, 2]\n",
      "Warning! One line search might have failed.You can loop rho and sigma and retry.\n",
      "触发停机条件：梯度小于阈值，运行正常\n",
      "[1.00000000000000 1.00000000000000 1.00000000000000 1.00000000000001\n",
      " 1.00000000000002 1.00000000000003]\n",
      "min:  5.26318135202144e-28 \n",
      "\n",
      "starting point:\n",
      " [0.56553855 0.64434032 0.19126315 0.11169696 0.09712432 0.29662242]\n",
      "Warning! One line search might have failed.You can loop rho and sigma and retry.\n",
      "触发停机条件：梯度小于阈值，运行正常\n",
      "[1.00000000000000 1.00000000000000 1.00000000000000 1.00000000000001\n",
      " 1.00000000000002 1.00000000000004]\n",
      "min:  6.33356699279320e-28 \n",
      "\n"
     ]
    }
   ],
   "source": [
    "opter1.add_fun(fun_Rosen_6d)    # 不要忘了更换目标函数\n",
    "\n",
    "print(\"starting point:\\n\", x1_6d)\n",
    "x_6d_min = opter1.opt_newtown(x1_6d)\n",
    "print(x_6d_min)\n",
    "print(\"min: \", fun_Rosen_6d(x_6d_min), '\\n')\n",
    "\n",
    "print(\"starting point:\\n\", x2_6d)\n",
    "x_6d_min = opter1.opt_newtown(x2_6d)\n",
    "print(x_6d_min)\n",
    "print(\"min: \", fun_Rosen_6d(x_6d_min), '\\n')\n",
    "\n",
    "print(\"starting point:\\n\", x3_6d)\n",
    "x_6d_min = opter1.opt_newtown(x3_6d)\n",
    "print(x_6d_min)\n",
    "print(\"min: \", fun_Rosen_6d(x_6d_min), '\\n')"
   ]
  },
  {
   "cell_type": "code",
   "execution_count": 9,
   "metadata": {},
   "outputs": [
    {
     "name": "stdout",
     "output_type": "stream",
     "text": [
      "starting point:\n",
      " [0, 0, 0]\n",
      "Warning! One line search might have failed.You can loop rho and sigma and retry.\n",
      "触发停机条件：梯度小于阈值，运行正常\n",
      "[1.00000000000001 1.00000000000003 1.00000000000006]\n",
      "min:  2.44221475495110e-27 \n",
      "\n",
      "starting point:\n",
      " [2, 2, 2]\n",
      "Warning! One line search might have failed.You can loop rho and sigma and retry.\n",
      "触发停机条件：梯度小于阈值，运行正常\n",
      "[1.00000000000001 1.00000000000002 1.00000000000005]\n",
      "min:  1.54468826003589e-27 \n",
      "\n",
      "starting point:\n",
      " [0.80970821 0.81740404 0.34771797]\n",
      "Warning! One line search might have failed.You can loop rho and sigma and retry.\n",
      "触发停机条件：梯度小于阈值，运行正常\n",
      "[1. 1. 1.]\n",
      "min:  7.55408272458983e-28 \n",
      "\n"
     ]
    }
   ],
   "source": [
    "opter1.add_fun(fun_Rosen_sin_3d)    # 不要忘了更换目标函数\n",
    "\n",
    "print(\"starting point:\\n\", x1_3d)\n",
    "x_3d_min = opter1.opt_newtown(x1_3d)\n",
    "print(x_3d_min)\n",
    "print(\"min: \", fun_Rosen_sin_3d(x_3d_min), '\\n')\n",
    "\n",
    "print(\"starting point:\\n\", x2_3d)\n",
    "x_3d_min = opter1.opt_newtown(x2_3d)\n",
    "print(x_3d_min)\n",
    "print(\"min: \", fun_Rosen_sin_3d(x_3d_min), '\\n')\n",
    "\n",
    "print(\"starting point:\\n\", x3_3d)\n",
    "x_3d_min = opter1.opt_newtown(x3_3d)\n",
    "print(x_3d_min)\n",
    "print(\"min: \", fun_Rosen_sin_3d(x_3d_min), '\\n')"
   ]
  },
  {
   "cell_type": "markdown",
   "metadata": {},
   "source": [
    "## Performance Test 3:\n",
    "* 不同参数选取对运行效率和结果的影响\n",
    "* 测试对象：三维Rosenbrock函数（三角函数）；初始点 $[0,0,0]$；两组不同参数\n",
    "* 参数选取：\n",
    "    1. $\\rho =0.3, \\sigma = 0.6$\n",
    "    2. $\\rho = 0.2, \\sigma =0.9$"
   ]
  },
  {
   "cell_type": "code",
   "execution_count": 18,
   "metadata": {},
   "outputs": [
    {
     "name": "stdout",
     "output_type": "stream",
     "text": [
      "starting point:\n",
      " [0, 0, 0]\n",
      "Warning! One line search might have failed.You can loop rho and sigma and retry.\n",
      "触发停机条件：梯度小于阈值，运行正常\n",
      "[1.00000000000001 1.00000000000003 1.00000000000006]\n",
      "min:  2.44221475495110e-27 \n",
      "\n"
     ]
    }
   ],
   "source": [
    "opter1.add_fun(fun_Rosen_sin_3d)\n",
    "\n",
    "print(\"starting point:\\n\", x1_3d)\n",
    "x_3d_min = opter1.opt_newtown(x1_3d)\n",
    "print(x_3d_min)\n",
    "print(\"min: \", fun_Rosen_sin_3d(x_3d_min), '\\n')"
   ]
  },
  {
   "cell_type": "code",
   "execution_count": 19,
   "metadata": {},
   "outputs": [
    {
     "name": "stdout",
     "output_type": "stream",
     "text": [
      "starting point:\n",
      " [0, 0, 0]\n",
      "触发停机条件：梯度小于阈值，运行正常\n",
      "[1.00000000000001 1.00000000000002 1.00000000000004]\n",
      "min:  1.34697999566488e-27 \n",
      "\n"
     ]
    }
   ],
   "source": [
    "opter2.add_fun(fun_Rosen_sin_3d)\n",
    "\n",
    "print(\"starting point:\\n\", x1_3d)\n",
    "x_3d_min = opter2.opt_newtown(x1_3d)\n",
    "print(x_3d_min)\n",
    "print(\"min: \", fun_Rosen_sin_3d(x_3d_min), '\\n')"
   ]
  },
  {
   "cell_type": "markdown",
   "metadata": {},
   "source": [
    "## Performance Test:\n",
    "自由测试，您可以用已给出数据进行测试，也可以自行构造"
   ]
  },
  {
   "cell_type": "code",
   "execution_count": 17,
   "metadata": {},
   "outputs": [
    {
     "name": "stdout",
     "output_type": "stream",
     "text": [
      "触发停机条件：梯度小于阈值，运行正常\n",
      "[0.999999999999997 0.999999999999994 0.999999999999987 0.999999999999974\n",
      " 0.999999999999947 0.999999999999891]\n",
      "4.57976896311552e-27\n"
     ]
    }
   ],
   "source": [
    "'''例：任意初始点'''\n",
    "# 六维Rosenbrock函数\n",
    "def fun_Rosen_6d(x):\n",
    "    return 100*((x[5]-x[4]**2)**2 + (x[4]-x[3]**2)**2 + (x[3]-x[2]**2)**2 \\\n",
    "        + (x[2]-x[1]**2)**2 + (x[1]-x[0]**2)**2) \\\n",
    "        + ((1-x[4])**2 + (1-x[3])**2 + (1-x[2])**2 +(1-x[1])**2 + (1-x[0])**2)\n",
    "\n",
    "opter = opt(0.25, 0.8)\n",
    "opter.add_fun(fun_Rosen_6d)\n",
    "x_6d = [-1,0,1,3,4,3.2]\n",
    "\n",
    "x_6d_min = opter.opt_newtown(x_6d)\n",
    "\n",
    "print(x_6d_min)\n",
    "print(fun_Rosen_6d(x_6d_min))"
   ]
  }
 ],
 "metadata": {
  "kernelspec": {
   "display_name": "Python 3.7.0 ('base')",
   "language": "python",
   "name": "python3"
  },
  "language_info": {
   "codemirror_mode": {
    "name": "ipython",
    "version": 3
   },
   "file_extension": ".py",
   "mimetype": "text/x-python",
   "name": "python",
   "nbconvert_exporter": "python",
   "pygments_lexer": "ipython3",
   "version": "3.7.0"
  },
  "orig_nbformat": 4,
  "vscode": {
   "interpreter": {
    "hash": "88279d2366fe020547cde40dd65aa0e3aa662a6ec1f3ca12d88834876c85e1a6"
   }
  }
 },
 "nbformat": 4,
 "nbformat_minor": 2
}
